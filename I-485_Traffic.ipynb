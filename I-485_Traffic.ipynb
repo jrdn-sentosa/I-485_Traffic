{
  "nbformat": 4,
  "nbformat_minor": 0,
  "metadata": {
    "colab": {
      "provenance": [],
      "authorship_tag": "ABX9TyMeqHv6YLiUpexya7DSb1df",
      "include_colab_link": true
    },
    "kernelspec": {
      "name": "python3",
      "display_name": "Python 3"
    },
    "language_info": {
      "name": "python"
    }
  },
  "cells": [
    {
      "cell_type": "markdown",
      "metadata": {
        "id": "view-in-github",
        "colab_type": "text"
      },
      "source": [
        "<a href=\"https://colab.research.google.com/github/jrdn-sentosa/I-485_Traffic/blob/main/I-485_Traffic.ipynb\" target=\"_parent\"><img src=\"https://colab.research.google.com/assets/colab-badge.svg\" alt=\"Open In Colab\"/></a>"
      ]
    },
    {
      "cell_type": "code",
      "execution_count": null,
      "metadata": {
        "id": "YTTopFFdE9-E"
      },
      "outputs": [],
      "source": [
        "%%capture\n",
        "!git clone https://github.com/jrdn-sentosa/I-485_Traffic\n",
        "%cd /content/I-485_Traffic/"
      ]
    },
    {
      "cell_type": "code",
      "source": [],
      "metadata": {
        "id": "d7J6CZK7FBGe"
      },
      "execution_count": null,
      "outputs": []
    }
  ]
}